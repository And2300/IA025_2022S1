{
  "nbformat": 4,
  "nbformat_minor": 0,
  "metadata": {
    "colab": {
      "name": "Aula4_plot_otimo_batch_iris.ipynb",
      "provenance": [],
      "collapsed_sections": [],
      "include_colab_link": true
    },
    "kernelspec": {
      "name": "python3",
      "display_name": "Python 3"
    },
    "language_info": {
      "name": "python"
    }
  },
  "cells": [
    {
      "cell_type": "markdown",
      "metadata": {
        "id": "view-in-github",
        "colab_type": "text"
      },
      "source": [
        "<a href=\"https://colab.research.google.com/github/And2300/IA025_2022S1/blob/main/Aula4_plot_otimo_batch_iris.ipynb\" target=\"_parent\"><img src=\"https://colab.research.google.com/assets/colab-badge.svg\" alt=\"Open In Colab\"/></a>"
      ]
    },
    {
      "cell_type": "markdown",
      "source": [
        "Nome: Andersson Romero"
      ],
      "metadata": {
        "id": "OuUGV9Mka-_m"
      }
    },
    {
      "cell_type": "code",
      "execution_count": 1,
      "metadata": {
        "id": "dCHgSQLCl-cT"
      },
      "outputs": [],
      "source": [
        "import numpy as np\n",
        "import torch\n",
        "from torch.utils.data import TensorDataset\n",
        "from torch.utils.data import DataLoader\n",
        "\n",
        "from torchvision import transforms\n",
        "\n",
        "from sklearn.datasets import load_iris\n",
        "%matplotlib inline\n",
        "import matplotlib.pyplot as plt"
      ]
    },
    {
      "cell_type": "code",
      "source": [
        "iris = load_iris()\n",
        "data = iris.data[iris.target==1,::2]  # comprimento das sépalas e pétalas, indices 0 e 2\n",
        "\n",
        "x_data = data[:,0:1]\n",
        "target = data[:,1:2]\n",
        "n_samples = x_data.shape[0]\n",
        "\n",
        "print('dimensões de x_data:', x_data.shape)\n",
        "print('dimensões de target:', target.shape)"
      ],
      "metadata": {
        "colab": {
          "base_uri": "https://localhost:8080/"
        },
        "id": "3tq5F1rPmDSm",
        "outputId": "b6830c94-0b48-4641-8663-84bfefe22f7c"
      },
      "execution_count": 2,
      "outputs": [
        {
          "output_type": "stream",
          "name": "stdout",
          "text": [
            "dimensões de x_data: (50, 1)\n",
            "dimensões de target: (50, 1)\n"
          ]
        }
      ]
    },
    {
      "cell_type": "code",
      "source": [
        "x_train = torch.FloatTensor(x_data)\n",
        "y_train = torch.FloatTensor(target)\n",
        "xt_min = x_train.min()\n",
        "xt_max = x_train.max()\n",
        "x_train_n = (x_train - xt_min)/(xt_max - xt_min)\n",
        "\n",
        "yt_min = y_train.min()\n",
        "yt_max = y_train.max()\n",
        "y_train_n = (y_train - yt_min)/(yt_max - yt_min)"
      ],
      "metadata": {
        "id": "UoDwmWyRmKAC"
      },
      "execution_count": 3,
      "outputs": []
    },
    {
      "cell_type": "code",
      "source": [
        "x_train_bias = torch.cat([torch.ones(size=(n_samples,1)), x_train_n], dim=1)\n",
        "print(x_train_bias.shape)"
      ],
      "metadata": {
        "colab": {
          "base_uri": "https://localhost:8080/"
        },
        "id": "808SexYanRHA",
        "outputId": "61439adf-8deb-404d-c6c7-cb302bc95206"
      },
      "execution_count": 4,
      "outputs": [
        {
          "output_type": "stream",
          "name": "stdout",
          "text": [
            "torch.Size([50, 2])\n"
          ]
        }
      ]
    },
    {
      "cell_type": "code",
      "source": [
        "dataset = TensorDataset(x_train_bias, y_train_n)"
      ],
      "metadata": {
        "id": "28YsXH5jmZAZ"
      },
      "execution_count": 5,
      "outputs": []
    },
    {
      "cell_type": "code",
      "source": [
        "\n",
        "data_loader = DataLoader(dataset, \n",
        "                         batch_size=10, # tamanho do mini-batch de dados\n",
        "                         shuffle=True) # se for True, embaralha os dados no inicio de cada iteração"
      ],
      "metadata": {
        "id": "xhHiL5Tkmwex"
      },
      "execution_count": 6,
      "outputs": []
    },
    {
      "cell_type": "markdown",
      "source": [
        "Solução ótima"
      ],
      "metadata": {
        "id": "pYVneGRYneXZ"
      }
    },
    {
      "cell_type": "code",
      "source": [
        "x_bias, y = next(iter(data_loader))"
      ],
      "metadata": {
        "id": "Ra0wXQHSnkCt"
      },
      "execution_count": 7,
      "outputs": []
    },
    {
      "cell_type": "code",
      "source": [
        "w_opt = (torch.inverse(x_bias.t().mm(x_bias)).mm(x_bias.t())).mm(y)\n",
        "print(w_opt.t(), w_opt.shape)"
      ],
      "metadata": {
        "colab": {
          "base_uri": "https://localhost:8080/"
        },
        "id": "3vVTJ_Z5mx6K",
        "outputId": "f429ecd0-76ed-4345-b43c-e3b83ee326f6"
      },
      "execution_count": 8,
      "outputs": [
        {
          "output_type": "stream",
          "name": "stdout",
          "text": [
            "tensor([[0.1952, 0.8877]]) torch.Size([2, 1])\n"
          ]
        }
      ]
    },
    {
      "cell_type": "markdown",
      "source": [
        "# Exercício é codificar a próxima célula:"
      ],
      "metadata": {
        "id": "FIxIOUmSa3mQ"
      }
    },
    {
      "cell_type": "markdown",
      "source": [
        "$$w=(x^Tx)^{-1}x^Ty$$"
      ],
      "metadata": {
        "id": "_mlwiCMLv4tR"
      }
    },
    {
      "cell_type": "code",
      "source": [
        "# colocar aqui um laço para \n",
        "# calcular os valores ótimos associados a cada batch\n",
        "# é esperado um gráfico parecido com o gráfico\n",
        "wlist = []\n",
        "epochs = range(1000)\n",
        "\n",
        "for epoch in epochs:\n",
        "  for x_bias, y in data_loader:\n",
        "    w = (torch.inverse(x_bias.t().mm(x_bias)).mm(x_bias.t())).mm(y)\n",
        "    wlist.append(w.t())"
      ],
      "metadata": {
        "id": "mw7E0q8Jobkh"
      },
      "execution_count": 17,
      "outputs": []
    },
    {
      "cell_type": "code",
      "source": [
        "w_opt = torch.cat(wlist)\n",
        "plt.scatter(w_opt[:,0], w_opt[:,1])"
      ],
      "metadata": {
        "id": "GsFwwva_rpd9",
        "colab": {
          "base_uri": "https://localhost:8080/",
          "height": 282
        },
        "outputId": "56611b5c-088f-4f9e-f9f1-d11eec68f0a9"
      },
      "execution_count": 18,
      "outputs": [
        {
          "output_type": "execute_result",
          "data": {
            "text/plain": [
              "<matplotlib.collections.PathCollection at 0x7fcfc41aaed0>"
            ]
          },
          "metadata": {},
          "execution_count": 18
        },
        {
          "output_type": "display_data",
          "data": {
            "text/plain": [
              "<Figure size 432x288 with 1 Axes>"
            ],
            "image/png": "[encoded data removed]"
          },
          "metadata": {
            "needs_background": "light"
          }
        }
      ]
    },
    {
      "cell_type": "code",
      "source": [
        "#w_opt = torch.cat(wlist)\n",
        "#plt.scatter(w_opt[:,0], w_opt[:,1])"
      ],
      "metadata": {
        "colab": {
          "base_uri": "https://localhost:8080/",
          "height": 282
        },
        "outputId": "fa25befd-aae8-4eea-e5bd-785bf42381fa",
        "id": "N6M6iQ-luizR"
      },
      "execution_count": null,
      "outputs": [
        {
          "output_type": "execute_result",
          "data": {
            "text/plain": [
              "<matplotlib.collections.PathCollection at 0x7f3c2b4ba990>"
            ]
          },
          "metadata": {},
          "execution_count": 28
        },
        {
          "output_type": "display_data",
          "data": {
            "text/plain": [
              "<Figure size 432x288 with 1 Axes>"
            ],
            "image/png": "[encoded data removed]"
          },
          "metadata": {
            "needs_background": "light"
          }
        }
      ]
    }
  ]
}